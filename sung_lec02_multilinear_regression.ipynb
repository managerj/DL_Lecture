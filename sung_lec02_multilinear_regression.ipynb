{
  "nbformat": 4,
  "nbformat_minor": 0,
  "metadata": {
    "colab": {
      "name": "sung_lec02_multilinear_regression.ipynb",
      "provenance": [],
      "authorship_tag": "ABX9TyMjxHq52jurd3bcsiXvi/32",
      "include_colab_link": true
    },
    "kernelspec": {
      "name": "python3",
      "display_name": "Python 3"
    }
  },
  "cells": [
    {
      "cell_type": "markdown",
      "metadata": {
        "id": "view-in-github",
        "colab_type": "text"
      },
      "source": [
        "<a href=\"https://colab.research.google.com/github/managerj/DL_Lecture/blob/master/sung_lec02_multilinear_regression.ipynb\" target=\"_parent\"><img src=\"https://colab.research.google.com/assets/colab-badge.svg\" alt=\"Open In Colab\"/></a>"
      ]
    },
    {
      "cell_type": "code",
      "metadata": {
        "id": "SGCvbdd_gH9A",
        "colab_type": "code",
        "colab": {}
      },
      "source": [
        "from keras.models import Sequential\n",
        "from keras.layers import Dense, Activation\n",
        "from keras.optimizers import RMSprop\n",
        "import numpy as np"
      ],
      "execution_count": 0,
      "outputs": []
    },
    {
      "cell_type": "code",
      "metadata": {
        "id": "hZzT3mmsggk3",
        "colab_type": "code",
        "colab": {}
      },
      "source": [
        "x_data = np.array([[73., 80., 75.],\n",
        "                   [93., 88., 93.],\n",
        "                   [89., 91., 90.],\n",
        "                   [96., 98., 100.],\n",
        "                   [73., 66., 70.]])\n",
        "y_data = np.array([[152.],\n",
        "                   [185.],\n",
        "                   [180.],\n",
        "                   [196.],\n",
        "                   [142.]])"
      ],
      "execution_count": 0,
      "outputs": []
    },
    {
      "cell_type": "code",
      "metadata": {
        "id": "0wELMyPngjlc",
        "colab_type": "code",
        "colab": {}
      },
      "source": [
        "print(x_data.shape)\n",
        "print(y_data.shape)          "
      ],
      "execution_count": 0,
      "outputs": []
    },
    {
      "cell_type": "code",
      "metadata": {
        "id": "fqQlJrENglaz",
        "colab_type": "code",
        "colab": {}
      },
      "source": [
        "model = Sequential()\n",
        "model.add(Dense(input_dim=3, units=1, activation='linear'))"
      ],
      "execution_count": 0,
      "outputs": []
    },
    {
      "cell_type": "markdown",
      "metadata": {
        "id": "AMg_9DQRh1zX",
        "colab_type": "text"
      },
      "source": [
        "윗 코드는 다음과 같이 표현 가능\n",
        "----\n",
        "model=Sequential()\n",
        "\n",
        "model.add(Dense(input_shape = (3,), units=1, activation='linear'))"
      ]
    },
    {
      "cell_type": "code",
      "metadata": {
        "id": "wYKtIStjgpSE",
        "colab_type": "code",
        "colab": {}
      },
      "source": [
        "rmsprop = RMSprop(lr=0.1)\n",
        "model.compile(loss='mse', optimizer=rmsprop,  metrics=['accuracy'])\n",
        "model.fit(x_data, y_data, epochs=100)"
      ],
      "execution_count": 0,
      "outputs": []
    },
    {
      "cell_type": "code",
      "metadata": {
        "id": "-sP9hnwkgr47",
        "colab_type": "code",
        "colab": {}
      },
      "source": [
        "y_predict = model.predict(np.array([[95., 100., 80]]))\n",
        "print(y_predict)"
      ],
      "execution_count": 0,
      "outputs": []
    }
  ]
}